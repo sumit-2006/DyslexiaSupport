{
 "cells": [
  {
   "cell_type": "code",
   "execution_count": 3,
   "id": "4a39f53d-57e3-424b-9259-79e36b6e764a",
   "metadata": {},
   "outputs": [],
   "source": [
    "\n",
    "\n",
    "# Set image parameters and training parameters\n",
    "\n",
    "\n",
    "# -------------------------------\n",
    "# Model Definitions\n",
    "# -------------------------------\n",
    "\n",
    "# Binary classifier: normal vs reversal\n",
    "\n",
    "\n",
    "\n",
    "\n",
    "# -------------------------------\n",
    "# Data Preparation using ImageDataGenerator\n",
    "# -------------------------------\n",
    "\n",
    "# Update these paths to match your dataset\n",
    "\n",
    "\n",
    "# Create ImageDataGenerators for binary classifier (only normal and reversal)\n",
    "\n",
    "\n",
    "\n",
    "\n",
    "\n",
    "\n",
    "# Create ImageDataGenerators for multiclass classifier (normal, reversal, corrected)\n",
    "\n",
    "\n",
    "\n",
    "\n",
    "\n",
    "\n",
    "# -------------------------------\n",
    "# Training the Models\n",
    "# -------------------------------\n",
    "\n",
    "# Train binary classifier\n",
    "\n",
    "# Save weights if desired\n",
    "# binary_model.save_weights('binary_model.h5')\n",
    "\n",
    "# Train multiclass classifier\n",
    "\n",
    "# Save weights if desired\n",
    "# multi_model.save_weights('multi_model.h5')\n"
   ]
  },
  {
   "cell_type": "code",
   "execution_count": 11,
   "id": "50eb928d-6441-4aa5-a86d-ae46b6c16402",
   "metadata": {},
   "outputs": [],
   "source": [
    "# Import necessary libraries\n",
    "import os\n",
    "import numpy as np\n",
    "from tensorflow.keras.models import Sequential\n",
    "from tensorflow.keras.layers import Conv2D, MaxPooling2D, Flatten, Dense, Dropout\n",
    "from tensorflow.keras.preprocessing.image import ImageDataGenerator, load_img, img_to_array\n",
    "import tensorflow as tf"
   ]
  },
  {
   "cell_type": "code",
   "execution_count": 12,
   "id": "de020b41-1ed1-42ba-b91e-272884933134",
   "metadata": {},
   "outputs": [],
   "source": [
    "IMG_HEIGHT = 64\n",
    "IMG_WIDTH = 64\n",
    "BATCH_SIZE = 32\n",
    "EPOCHS = 10"
   ]
  },
  {
   "cell_type": "code",
   "execution_count": 13,
   "id": "cacd028d-90b6-459d-a406-d787a75eac6f",
   "metadata": {},
   "outputs": [],
   "source": [
    "def create_binary_model(input_shape=(IMG_HEIGHT, IMG_WIDTH, 3)):\n",
    "    model = Sequential([\n",
    "        Conv2D(32, (3, 3), activation='relu', input_shape=input_shape),\n",
    "        MaxPooling2D(2, 2),\n",
    "        Conv2D(64, (3, 3), activation='relu'),\n",
    "        MaxPooling2D(2, 2),\n",
    "        Flatten(),\n",
    "        Dense(128, activation='relu'),\n",
    "        Dropout(0.5),\n",
    "        Dense(2, activation='softmax')\n",
    "    ])\n",
    "    model.compile(optimizer='adam', loss='categorical_crossentropy', metrics=['accuracy'])\n",
    "    return model\n"
   ]
  },
  {
   "cell_type": "code",
   "execution_count": 14,
   "id": "6fb76f6d-df99-41ca-8cc8-b8931a0fff45",
   "metadata": {},
   "outputs": [],
   "source": [
    "\n",
    "# Multiclass classifier: normal, reversal, corrected\n",
    "def create_multiclass_model(input_shape=(IMG_HEIGHT, IMG_WIDTH, 3)):\n",
    "    model = Sequential([\n",
    "        Conv2D(32, (3, 3), activation='relu', input_shape=input_shape),\n",
    "        MaxPooling2D(2, 2),\n",
    "        Conv2D(64, (3, 3), activation='relu'),\n",
    "        MaxPooling2D(2, 2),\n",
    "        Flatten(),\n",
    "        Dense(128, activation='relu'),\n",
    "        Dropout(0.5),\n",
    "        Dense(3, activation='softmax')\n",
    "    ])\n",
    "    model.compile(optimizer='adam', loss='categorical_crossentropy', metrics=['accuracy'])\n",
    "    return model"
   ]
  },
  {
   "cell_type": "code",
   "execution_count": 16,
   "id": "210d5bb4-f6d1-403a-b7c6-6c86855d7962",
   "metadata": {},
   "outputs": [],
   "source": [
    "train_dir = r\"C:\\Users\\Lenovo\\Downloads\\dataset_char\\Dataset Dyslexia_Password WanAsy321\\Gambo\\Train\"\n",
    "test_dir = r\"C:\\Users\\Lenovo\\Downloads\\dataset_char\\Dataset Dyslexia_Password WanAsy321\\Gambo\\Test\""
   ]
  },
  {
   "cell_type": "code",
   "execution_count": 17,
   "id": "17194010-ee49-44f1-8782-00a3ec287010",
   "metadata": {},
   "outputs": [],
   "source": [
    "binary_train_datagen = ImageDataGenerator(\n",
    "    rescale=1./255,\n",
    "    rotation_range=10,\n",
    "    zoom_range=0.1,\n",
    "    horizontal_flip=True\n",
    ")\n",
    "binary_test_datagen = ImageDataGenerator(rescale=1./255)"
   ]
  },
  {
   "cell_type": "code",
   "execution_count": 18,
   "id": "4e65c86c-b816-4ba7-aef2-b4f72f6f8301",
   "metadata": {},
   "outputs": [
    {
     "name": "stdout",
     "output_type": "stream",
     "text": [
      "Found 86115 images belonging to 2 classes.\n"
     ]
    }
   ],
   "source": [
    "binary_train_generator = binary_train_datagen.flow_from_directory(\n",
    "    train_dir,\n",
    "    target_size=(IMG_HEIGHT, IMG_WIDTH),\n",
    "    classes=['normal', 'reversal'],  # use only these two folders\n",
    "    batch_size=BATCH_SIZE,\n",
    "    class_mode='categorical'\n",
    ")"
   ]
  },
  {
   "cell_type": "code",
   "execution_count": 19,
   "id": "16581543-e766-48fb-b7ec-19d9de541984",
   "metadata": {},
   "outputs": [
    {
     "name": "stdout",
     "output_type": "stream",
     "text": [
      "Found 37439 images belonging to 2 classes.\n"
     ]
    }
   ],
   "source": [
    "binary_test_generator = binary_test_datagen.flow_from_directory(\n",
    "    test_dir,\n",
    "    target_size=(IMG_HEIGHT, IMG_WIDTH),\n",
    "    classes=['normal', 'reversal'],\n",
    "    batch_size=BATCH_SIZE,\n",
    "    class_mode='categorical'\n",
    ")"
   ]
  },
  {
   "cell_type": "code",
   "execution_count": 20,
   "id": "74287882-6dcb-41fa-bdc6-c8d8a69a1e72",
   "metadata": {},
   "outputs": [],
   "source": [
    "multi_train_datagen = ImageDataGenerator(\n",
    "    rescale=1./255,\n",
    "    rotation_range=10,\n",
    "    zoom_range=0.1,\n",
    "    horizontal_flip=True\n",
    ")\n",
    "multi_test_datagen = ImageDataGenerator(rescale=1./255)"
   ]
  },
  {
   "cell_type": "code",
   "execution_count": 21,
   "id": "4108597a-792e-4480-be04-132debc18308",
   "metadata": {},
   "outputs": [
    {
     "name": "stdout",
     "output_type": "stream",
     "text": [
      "Found 151649 images belonging to 3 classes.\n"
     ]
    }
   ],
   "source": [
    "multi_train_generator = multi_train_datagen.flow_from_directory(\n",
    "    train_dir,\n",
    "    target_size=(IMG_HEIGHT, IMG_WIDTH),\n",
    "    classes=['normal', 'reversal', 'corrected'],  # all three folders\n",
    "    batch_size=BATCH_SIZE,\n",
    "    class_mode='categorical'\n",
    ")"
   ]
  },
  {
   "cell_type": "code",
   "execution_count": 23,
   "id": "a6e5245f-a448-4dff-8824-834ed140e38b",
   "metadata": {},
   "outputs": [
    {
     "name": "stdout",
     "output_type": "stream",
     "text": [
      "Training Binary Classifier (Normal vs Reversal)...\n",
      "Epoch 1/10\n",
      "\u001b[1m2692/2692\u001b[0m \u001b[32m━━━━━━━━━━━━━━━━━━━━\u001b[0m\u001b[37m\u001b[0m \u001b[1m148s\u001b[0m 54ms/step - accuracy: 0.7471 - loss: 0.4606 - val_accuracy: 0.6721 - val_loss: 0.9691\n",
      "Epoch 2/10\n",
      "\u001b[1m2692/2692\u001b[0m \u001b[32m━━━━━━━━━━━━━━━━━━━━\u001b[0m\u001b[37m\u001b[0m \u001b[1m134s\u001b[0m 50ms/step - accuracy: 0.8214 - loss: 0.3160 - val_accuracy: 0.6976 - val_loss: 1.1331\n",
      "Epoch 3/10\n",
      "\u001b[1m2692/2692\u001b[0m \u001b[32m━━━━━━━━━━━━━━━━━━━━\u001b[0m\u001b[37m\u001b[0m \u001b[1m135s\u001b[0m 50ms/step - accuracy: 0.8310 - loss: 0.2982 - val_accuracy: 0.6894 - val_loss: 1.0973\n",
      "Epoch 4/10\n",
      "\u001b[1m2692/2692\u001b[0m \u001b[32m━━━━━━━━━━━━━━━━━━━━\u001b[0m\u001b[37m\u001b[0m \u001b[1m135s\u001b[0m 50ms/step - accuracy: 0.8312 - loss: 0.2912 - val_accuracy: 0.6884 - val_loss: 0.9660\n",
      "Epoch 5/10\n",
      "\u001b[1m2692/2692\u001b[0m \u001b[32m━━━━━━━━━━━━━━━━━━━━\u001b[0m\u001b[37m\u001b[0m \u001b[1m136s\u001b[0m 50ms/step - accuracy: 0.8314 - loss: 0.2884 - val_accuracy: 0.6906 - val_loss: 1.1596\n",
      "Epoch 6/10\n",
      "\u001b[1m2692/2692\u001b[0m \u001b[32m━━━━━━━━━━━━━━━━━━━━\u001b[0m\u001b[37m\u001b[0m \u001b[1m135s\u001b[0m 50ms/step - accuracy: 0.8311 - loss: 0.2859 - val_accuracy: 0.6806 - val_loss: 1.2695\n",
      "Epoch 7/10\n",
      "\u001b[1m2692/2692\u001b[0m \u001b[32m━━━━━━━━━━━━━━━━━━━━\u001b[0m\u001b[37m\u001b[0m \u001b[1m136s\u001b[0m 50ms/step - accuracy: 0.8316 - loss: 0.2818 - val_accuracy: 0.6850 - val_loss: 1.0840\n",
      "Epoch 8/10\n",
      "\u001b[1m2692/2692\u001b[0m \u001b[32m━━━━━━━━━━━━━━━━━━━━\u001b[0m\u001b[37m\u001b[0m \u001b[1m135s\u001b[0m 50ms/step - accuracy: 0.8325 - loss: 0.2812 - val_accuracy: 0.6837 - val_loss: 1.4622\n",
      "Epoch 9/10\n",
      "\u001b[1m2692/2692\u001b[0m \u001b[32m━━━━━━━━━━━━━━━━━━━━\u001b[0m\u001b[37m\u001b[0m \u001b[1m135s\u001b[0m 50ms/step - accuracy: 0.8312 - loss: 0.2800 - val_accuracy: 0.6936 - val_loss: 1.4771\n",
      "Epoch 10/10\n",
      "\u001b[1m2692/2692\u001b[0m \u001b[32m━━━━━━━━━━━━━━━━━━━━\u001b[0m\u001b[37m\u001b[0m \u001b[1m222s\u001b[0m 82ms/step - accuracy: 0.8344 - loss: 0.2761 - val_accuracy: 0.6853 - val_loss: 1.4653\n"
     ]
    }
   ],
   "source": [
    "binary_model = create_binary_model()\n",
    "print(\"Training Binary Classifier (Normal vs Reversal)...\")\n",
    "history_binary = binary_model.fit(\n",
    "    binary_train_generator,\n",
    "    validation_data=binary_test_generator,\n",
    "    epochs=EPOCHS\n",
    ")"
   ]
  },
  {
   "cell_type": "code",
   "execution_count": 24,
   "id": "85fafc8f-9c01-4f97-8aeb-e7dca0d376c0",
   "metadata": {},
   "outputs": [
    {
     "name": "stdout",
     "output_type": "stream",
     "text": [
      "Found 56723 images belonging to 3 classes.\n"
     ]
    }
   ],
   "source": [
    "multi_test_generator = multi_test_datagen.flow_from_directory(\n",
    "    test_dir,\n",
    "    target_size=(IMG_HEIGHT, IMG_WIDTH),\n",
    "    classes=['normal', 'reversal', 'corrected'],\n",
    "    batch_size=BATCH_SIZE,\n",
    "    class_mode='categorical'\n",
    ")"
   ]
  },
  {
   "cell_type": "code",
   "execution_count": 26,
   "id": "a2572063-56ca-4660-a737-90d4639425f2",
   "metadata": {},
   "outputs": [
    {
     "name": "stdout",
     "output_type": "stream",
     "text": [
      "Training Multiclass Classifier (Normal, Reversal, Corrected)...\n",
      "Epoch 1/10\n",
      "\u001b[1m4740/4740\u001b[0m \u001b[32m━━━━━━━━━━━━━━━━━━━━\u001b[0m\u001b[37m\u001b[0m \u001b[1m652s\u001b[0m 137ms/step - accuracy: 0.7280 - loss: 0.5906 - val_accuracy: 0.7145 - val_loss: 0.7424\n",
      "Epoch 2/10\n",
      "\u001b[1m4740/4740\u001b[0m \u001b[32m━━━━━━━━━━━━━━━━━━━━\u001b[0m\u001b[37m\u001b[0m \u001b[1m242s\u001b[0m 51ms/step - accuracy: 0.8373 - loss: 0.3421 - val_accuracy: 0.7053 - val_loss: 0.9568\n",
      "Epoch 3/10\n",
      "\u001b[1m4740/4740\u001b[0m \u001b[32m━━━━━━━━━━━━━━━━━━━━\u001b[0m\u001b[37m\u001b[0m \u001b[1m260s\u001b[0m 55ms/step - accuracy: 0.8520 - loss: 0.3033 - val_accuracy: 0.7511 - val_loss: 0.8448\n",
      "Epoch 4/10\n",
      "\u001b[1m4740/4740\u001b[0m \u001b[32m━━━━━━━━━━━━━━━━━━━━\u001b[0m\u001b[37m\u001b[0m \u001b[1m382s\u001b[0m 81ms/step - accuracy: 0.8621 - loss: 0.2817 - val_accuracy: 0.7332 - val_loss: 1.2265\n",
      "Epoch 5/10\n",
      "\u001b[1m4740/4740\u001b[0m \u001b[32m━━━━━━━━━━━━━━━━━━━━\u001b[0m\u001b[37m\u001b[0m \u001b[1m258s\u001b[0m 54ms/step - accuracy: 0.8621 - loss: 0.2718 - val_accuracy: 0.7392 - val_loss: 1.0834\n",
      "Epoch 6/10\n",
      "\u001b[1m4740/4740\u001b[0m \u001b[32m━━━━━━━━━━━━━━━━━━━━\u001b[0m\u001b[37m\u001b[0m \u001b[1m312s\u001b[0m 66ms/step - accuracy: 0.8662 - loss: 0.2619 - val_accuracy: 0.7280 - val_loss: 1.0693\n",
      "Epoch 7/10\n",
      "\u001b[1m4740/4740\u001b[0m \u001b[32m━━━━━━━━━━━━━━━━━━━━\u001b[0m\u001b[37m\u001b[0m \u001b[1m254s\u001b[0m 54ms/step - accuracy: 0.8686 - loss: 0.2565 - val_accuracy: 0.7445 - val_loss: 0.9868\n",
      "Epoch 8/10\n",
      "\u001b[1m4740/4740\u001b[0m \u001b[32m━━━━━━━━━━━━━━━━━━━━\u001b[0m\u001b[37m\u001b[0m \u001b[1m256s\u001b[0m 54ms/step - accuracy: 0.8725 - loss: 0.2498 - val_accuracy: 0.7329 - val_loss: 1.0841\n",
      "Epoch 9/10\n",
      "\u001b[1m4740/4740\u001b[0m \u001b[32m━━━━━━━━━━━━━━━━━━━━\u001b[0m\u001b[37m\u001b[0m \u001b[1m257s\u001b[0m 54ms/step - accuracy: 0.8735 - loss: 0.2482 - val_accuracy: 0.7587 - val_loss: 0.9880\n",
      "Epoch 10/10\n",
      "\u001b[1m4740/4740\u001b[0m \u001b[32m━━━━━━━━━━━━━━━━━━━━\u001b[0m\u001b[37m\u001b[0m \u001b[1m257s\u001b[0m 54ms/step - accuracy: 0.8735 - loss: 0.2446 - val_accuracy: 0.7432 - val_loss: 1.0357\n"
     ]
    }
   ],
   "source": [
    "multi_model = create_multiclass_model()\n",
    "print(\"Training Multiclass Classifier (Normal, Reversal, Corrected)...\")\n",
    "history_multi = multi_model.fit(\n",
    "    multi_train_generator,\n",
    "    validation_data=multi_test_generator,\n",
    "    epochs=EPOCHS\n",
    ")"
   ]
  },
  {
   "cell_type": "code",
   "execution_count": 30,
   "id": "b885740d-6afd-46b3-bcb9-3d17dc08aac4",
   "metadata": {},
   "outputs": [
    {
     "name": "stderr",
     "output_type": "stream",
     "text": [
      "WARNING:absl:You are saving your model as an HDF5 file via `model.save()` or `keras.saving.save_model(model)`. This file format is considered legacy. We recommend using instead the native Keras format, e.g. `model.save('my_model.keras')` or `keras.saving.save_model(model, 'my_model.keras')`. \n",
      "WARNING:absl:You are saving your model as an HDF5 file via `model.save()` or `keras.saving.save_model(model)`. This file format is considered legacy. We recommend using instead the native Keras format, e.g. `model.save('my_model.keras')` or `keras.saving.save_model(model, 'my_model.keras')`. \n"
     ]
    }
   ],
   "source": [
    "import keras\n",
    "keras.saving.save_model(binary_model,\"binary_model.h5\")\n",
    "keras.saving.save_model(multi_model,\"multiclass_model.h5\")\n"
   ]
  },
  {
   "cell_type": "code",
   "execution_count": null,
   "id": "61408c3b-5608-42ed-ba9b-35a76506f1e8",
   "metadata": {},
   "outputs": [],
   "source": []
  }
 ],
 "metadata": {
  "kernelspec": {
   "display_name": "Python 3 (ipykernel)",
   "language": "python",
   "name": "python3"
  },
  "language_info": {
   "codemirror_mode": {
    "name": "ipython",
    "version": 3
   },
   "file_extension": ".py",
   "mimetype": "text/x-python",
   "name": "python",
   "nbconvert_exporter": "python",
   "pygments_lexer": "ipython3",
   "version": "3.12.6"
  }
 },
 "nbformat": 4,
 "nbformat_minor": 5
}
