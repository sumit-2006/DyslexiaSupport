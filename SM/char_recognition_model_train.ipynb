{
 "cells": [
  {
   "cell_type": "code",
   "execution_count": 3,
   "id": "6eb7299c",
   "metadata": {},
   "outputs": [],
   "source": [
    "import os\n",
    "import numpy as np\n",
    "import tensorflow as tf\n",
    "from tensorflow.keras.preprocessing.image import load_img, img_to_array\n",
    "from sklearn.model_selection import train_test_split"
   ]
  },
  {
   "cell_type": "code",
   "execution_count": 11,
   "id": "42428487",
   "metadata": {},
   "outputs": [],
   "source": [
    "\n",
    "data_dir = \"D:\\STUDY\\Sumit\\lectures sumit\\college\\sem 6\\dyslexia\\Dataset Dyslexia_Password WanAsy321\\Gambo\\Train\"  \n",
    "\n",
    "categories = [\"normal\", \"reversal\", \"corrected\"]\n",
    "\n",
    "img_size = (64, 64)  \n"
   ]
  },
  {
   "cell_type": "code",
   "execution_count": 12,
   "id": "c71daebf",
   "metadata": {},
   "outputs": [
    {
     "name": "stdout",
     "output_type": "stream",
     "text": [
      "Total images loaded: 151649\n"
     ]
    }
   ],
   "source": [
    "X = []  \n",
    "y = []  \n",
    "label_map = {\"normal\": 0, \"reversal\": 1, \"corrected\": 2}\n",
    "\n",
    "\n",
    "for category in categories:\n",
    "    folder_path = os.path.join(data_dir, category)\n",
    "    \n",
    "    if not os.path.exists(folder_path):\n",
    "        print(f\"Folder missing: {folder_path}\")\n",
    "        continue\n",
    "    \n",
    "    for img_name in os.listdir(folder_path):\n",
    "        img_path = os.path.join(folder_path, img_name)\n",
    "\n",
    "        \n",
    "        img = load_img(img_path, target_size=img_size, color_mode='grayscale')\n",
    "        img_array = img_to_array(img) / 255.0  \n",
    "        \n",
    "        X.append(img_array)\n",
    "        y.append(label_map[category])\n",
    "\n",
    "\n",
    "X = np.array(X)\n",
    "y = np.array(y)\n",
    "\n",
    "print(f\"Total images loaded: {X.shape[0]}\")\n"
   ]
  },
  {
   "cell_type": "code",
   "execution_count": 13,
   "id": "4fd60d3b",
   "metadata": {},
   "outputs": [
    {
     "name": "stdout",
     "output_type": "stream",
     "text": [
      "Model: \"sequential\"\n",
      "_________________________________________________________________\n",
      " Layer (type)                Output Shape              Param #   \n",
      "=================================================================\n",
      " conv2d (Conv2D)             (None, 62, 62, 32)        320       \n",
      "                                                                 \n",
      " max_pooling2d (MaxPooling2D  (None, 31, 31, 32)       0         \n",
      " )                                                               \n",
      "                                                                 \n",
      " conv2d_1 (Conv2D)           (None, 29, 29, 64)        18496     \n",
      "                                                                 \n",
      " max_pooling2d_1 (MaxPooling  (None, 14, 14, 64)       0         \n",
      " 2D)                                                             \n",
      "                                                                 \n",
      " flatten (Flatten)           (None, 12544)             0         \n",
      "                                                                 \n",
      " dense (Dense)               (None, 128)               1605760   \n",
      "                                                                 \n",
      " dropout (Dropout)           (None, 128)               0         \n",
      "                                                                 \n",
      " dense_1 (Dense)             (None, 3)                 387       \n",
      "                                                                 \n",
      "=================================================================\n",
      "Total params: 1,624,963\n",
      "Trainable params: 1,624,963\n",
      "Non-trainable params: 0\n",
      "_________________________________________________________________\n"
     ]
    }
   ],
   "source": [
    "import tensorflow as tf\n",
    "from tensorflow.keras.models import Sequential\n",
    "from tensorflow.keras.layers import Conv2D, MaxPooling2D, Flatten, Dense, Dropout\n",
    "\n",
    "model = Sequential([\n",
    "    Conv2D(32, (3, 3), activation='relu', input_shape=(64, 64, 1)),\n",
    "    MaxPooling2D(pool_size=(2, 2)),\n",
    "\n",
    "    Conv2D(64, (3, 3), activation='relu'),\n",
    "    MaxPooling2D(pool_size=(2, 2)),\n",
    "\n",
    "    Flatten(),\n",
    "    Dense(128, activation='relu'),\n",
    "    Dropout(0.5),\n",
    "    Dense(3, activation='softmax')  \n",
    "])\n",
    "\n",
    "model.compile(optimizer='adam', loss='categorical_crossentropy', metrics=['accuracy'])\n",
    "\n",
    "\n",
    "model.summary()\n"
   ]
  },
  {
   "cell_type": "code",
   "execution_count": 15,
   "id": "9617a9e3",
   "metadata": {},
   "outputs": [
    {
     "name": "stdout",
     "output_type": "stream",
     "text": [
      "Training samples: 121319, Validation samples: 30330\n"
     ]
    }
   ],
   "source": [
    "from sklearn.model_selection import train_test_split\n",
    "# Split dataset (80% training, 20% validation)\n",
    "X_train, X_val, y_train, y_val = train_test_split(X, y, test_size=0.2, stratify=y, random_state=42)\n",
    "\n",
    "# Convert labels to categorical format\n",
    "y_train = tf.keras.utils.to_categorical(y_train, num_classes=3)\n",
    "y_val = tf.keras.utils.to_categorical(y_val, num_classes=3)\n",
    "\n",
    "print(f\"Training samples: {X_train.shape[0]}, Validation samples: {X_val.shape[0]}\")"
   ]
  },
  {
   "cell_type": "code",
   "execution_count": 16,
   "id": "cc90406c",
   "metadata": {},
   "outputs": [
    {
     "name": "stdout",
     "output_type": "stream",
     "text": [
      "Epoch 1/10\n",
      "3033/3033 [==============================] - 310s 102ms/step - loss: 0.1850 - accuracy: 0.9319 - val_loss: 0.0971 - val_accuracy: 0.9656\n",
      "Epoch 2/10\n",
      "3033/3033 [==============================] - 330s 109ms/step - loss: 0.0889 - accuracy: 0.9674 - val_loss: 0.0596 - val_accuracy: 0.9780\n",
      "Epoch 3/10\n",
      "3033/3033 [==============================] - 327s 108ms/step - loss: 0.0597 - accuracy: 0.9793 - val_loss: 0.0453 - val_accuracy: 0.9853\n",
      "Epoch 4/10\n",
      "3033/3033 [==============================] - 338s 112ms/step - loss: 0.0440 - accuracy: 0.9847 - val_loss: 0.0474 - val_accuracy: 0.9838\n",
      "Epoch 5/10\n",
      "3033/3033 [==============================] - 331s 109ms/step - loss: 0.0352 - accuracy: 0.9876 - val_loss: 0.0395 - val_accuracy: 0.9866\n",
      "Epoch 6/10\n",
      "3033/3033 [==============================] - 312s 103ms/step - loss: 0.0292 - accuracy: 0.9894 - val_loss: 0.0360 - val_accuracy: 0.9898\n",
      "Epoch 7/10\n",
      "3033/3033 [==============================] - 340s 112ms/step - loss: 0.0247 - accuracy: 0.9913 - val_loss: 0.0380 - val_accuracy: 0.9886\n",
      "Epoch 8/10\n",
      "3033/3033 [==============================] - 354s 117ms/step - loss: 0.0236 - accuracy: 0.9917 - val_loss: 0.0538 - val_accuracy: 0.9844\n",
      "Epoch 9/10\n",
      "3033/3033 [==============================] - 343s 113ms/step - loss: 0.0200 - accuracy: 0.9928 - val_loss: 0.0389 - val_accuracy: 0.9899\n",
      "Epoch 10/10\n",
      "3033/3033 [==============================] - 368s 121ms/step - loss: 0.0182 - accuracy: 0.9937 - val_loss: 0.0468 - val_accuracy: 0.9869\n"
     ]
    }
   ],
   "source": [
    "# Train the model\n",
    "history = model.fit(X_train, y_train, epochs=10, batch_size=32, validation_split=0.2)\n"
   ]
  },
  {
   "cell_type": "code",
   "execution_count": 20,
   "id": "2238da79",
   "metadata": {},
   "outputs": [
    {
     "name": "stdout",
     "output_type": "stream",
     "text": [
      "Total test images loaded: 56723\n"
     ]
    }
   ],
   "source": [
    "# Load test dataset\n",
    "test_data_dir = \"D:\\STUDY\\Sumit\\lectures sumit\\college\\sem 6\\dyslexia\\Dataset Dyslexia_Password WanAsy321\\Gambo\\Test\"\n",
    "\n",
    "X_test, y_test = [], []\n",
    "for category in categories:\n",
    "    folder_path = os.path.join(test_data_dir, category)\n",
    "    \n",
    "    if not os.path.exists(folder_path):\n",
    "        print(f\"Folder missing: {folder_path}\")\n",
    "        continue\n",
    "    \n",
    "    for img_name in os.listdir(folder_path):\n",
    "        img_path = os.path.join(folder_path, img_name)\n",
    "\n",
    "        # Load image in grayscale, resize, and normalize\n",
    "        img = load_img(img_path, target_size=img_size, color_mode='grayscale')\n",
    "        img_array = img_to_array(img) / 255.0  # Normalize pixel values\n",
    "        \n",
    "        X_test.append(img_array)\n",
    "        y_test.append(label_map[category])\n",
    "\n",
    "# Convert lists to NumPy arrays\n",
    "X_test = np.array(X_test)\n",
    "y_test = np.array(y_test)\n",
    "\n",
    "# Convert labels to categorical format\n",
    "y_test = tf.keras.utils.to_categorical(y_test, num_classes=3)\n",
    "\n",
    "print(f\"Total test images loaded: {X_test.shape[0]}\")\n"
   ]
  },
  {
   "cell_type": "code",
   "execution_count": 21,
   "id": "522eebda",
   "metadata": {},
   "outputs": [
    {
     "name": "stdout",
     "output_type": "stream",
     "text": [
      "1773/1773 [==============================] - 34s 19ms/step - loss: 1.4706 - accuracy: 0.8637\n",
      "Test Accuracy: 86.37%\n"
     ]
    }
   ],
   "source": [
    "# Evaluate model on test data\n",
    "test_loss, test_acc = model.evaluate(X_test, y_test)\n",
    "print(f\"Test Accuracy: {test_acc * 100:.2f}%\")\n"
   ]
  },
  {
   "cell_type": "code",
   "execution_count": 22,
   "id": "28c3ba19",
   "metadata": {},
   "outputs": [],
   "source": [
    "model.save(\"char_recognition_model.h5\")"
   ]
  },
  {
   "cell_type": "code",
   "execution_count": null,
   "id": "10ad5b87",
   "metadata": {},
   "outputs": [],
   "source": []
  }
 ],
 "metadata": {
  "kernelspec": {
   "display_name": "Python 3 (ipykernel)",
   "language": "python",
   "name": "python3"
  },
  "language_info": {
   "codemirror_mode": {
    "name": "ipython",
    "version": 3
   },
   "file_extension": ".py",
   "mimetype": "text/x-python",
   "name": "python",
   "nbconvert_exporter": "python",
   "pygments_lexer": "ipython3",
   "version": "3.9.13"
  }
 },
 "nbformat": 4,
 "nbformat_minor": 5
}
