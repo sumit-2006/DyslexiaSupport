{
 "cells": [
  {
   "cell_type": "code",
   "execution_count": 35,
   "id": "f3747e89",
   "metadata": {},
   "outputs": [],
   "source": [
    "import cv2\n",
    "import numpy as np\n",
    "from skimage.morphology import skeletonize\n",
    "from scipy.ndimage import interpolation as inter"
   ]
  },
  {
   "cell_type": "code",
   "execution_count": 36,
   "id": "c4ee17b8",
   "metadata": {},
   "outputs": [],
   "source": [
    "def load_and_binarize(path):\n",
    "    img = cv2.imread(path)\n",
    "    gray = cv2.cvtColor(img, cv2.COLOR_BGR2GRAY)\n",
    "    # Invert+Otsu so writing is white on black\n",
    "    th = cv2.threshold(gray, 0, 255,\n",
    "                       cv2.THRESH_BINARY_INV | cv2.THRESH_OTSU)[1]\n",
    "    return th"
   ]
  },
  {
   "cell_type": "code",
   "execution_count": 37,
   "id": "2d1cc831",
   "metadata": {},
   "outputs": [],
   "source": [
    "def deskew(img_bin):\n",
    "    coords = np.column_stack(np.where(img_bin > 0))\n",
    "    angle = cv2.minAreaRect(coords)[-1]\n",
    "\n",
    "    if angle < -45:\n",
    "        angle = 90 + angle\n",
    "    else:\n",
    "        angle = angle\n",
    "\n",
    "    (h, w) = img_bin.shape  # <-- Moved here\n",
    "\n",
    "    M = cv2.getRotationMatrix2D((w // 2, h // 2), angle, 1.0)\n",
    "    return cv2.warpAffine(img_bin, M, (w, h),\n",
    "                          flags=cv2.INTER_CUBIC,\n",
    "                          borderMode=cv2.BORDER_CONSTANT,\n",
    "                          borderValue=0)\n"
   ]
  },
  {
   "cell_type": "code",
   "execution_count": 55,
   "id": "cdfc24e3",
   "metadata": {},
   "outputs": [],
   "source": [
    "def segment_lines(img_bin, min_height=10):\n",
    "    if img_bin is None:\n",
    "        raise ValueError(\"Input image is None\")\n",
    "    \n",
    "    # Ensure grayscale\n",
    "    if len(img_bin.shape) == 3:\n",
    "        img_bin = cv2.cvtColor(img_bin, cv2.COLOR_BGR2GRAY)\n",
    "    \n",
    "    # Binarize to 0/255 uint8\n",
    "    img_bin = (img_bin > 128).astype(np.uint8) * 255\n",
    "\n",
    "    # Replace OpenCV reduce with NumPy sum\n",
    "    hist = np.sum(img_bin, axis=1)\n",
    "\n",
    "    lines = []\n",
    "    in_line = False\n",
    "    start = 0\n",
    "    for i, val in enumerate(hist):\n",
    "        if val > 0 and not in_line:\n",
    "            in_line = True\n",
    "            start = i\n",
    "        elif val == 0 and in_line:\n",
    "            in_line = False\n",
    "            if i - start > min_height:\n",
    "                lines.append((start, i))\n",
    "    return lines\n"
   ]
  },
  {
   "cell_type": "code",
   "execution_count": 56,
   "id": "b4a0cf19",
   "metadata": {},
   "outputs": [],
   "source": [
    "def segment_chars(line_img, min_w=5, min_h=5):\n",
    "    # Find contours in each line\n",
    "    cnts, _ = cv2.findContours(line_img, cv2.RETR_EXTERNAL, cv2.CHAIN_APPROX_SIMPLE)\n",
    "    chars = []\n",
    "    for c in cnts:\n",
    "        x,y,w,h = cv2.boundingRect(c)\n",
    "        if w >= min_w and h >= min_h:\n",
    "            chars.append((x,y,w,h))\n",
    "    # Sort left-to-right\n",
    "    chars = sorted(chars, key=lambda b: b[0])\n",
    "    return chars"
   ]
  },
  {
   "cell_type": "code",
   "execution_count": 57,
   "id": "4bfe03d5",
   "metadata": {},
   "outputs": [],
   "source": [
    "def extract_strokes(char_img):\n",
    "    # Normalize to 0/1\n",
    "    bin_char = (char_img > 0).astype(np.uint8)\n",
    "    # Skeletonize\n",
    "    skel = skeletonize(bin_char).astype(np.uint8) * 255\n",
    "    return skel"
   ]
  },
  {
   "cell_type": "code",
   "execution_count": 58,
   "id": "262ac303",
   "metadata": {},
   "outputs": [],
   "source": [
    "def preprocess_page(path):\n",
    "    # 1. Load & binarize\n",
    "    bin_page = load_and_binarize(path)\n",
    "    # 2. Deskew\n",
    "    deskewed = deskew(bin_page)\n",
    "    # 3. Line segmentation\n",
    "    lines = segment_lines(deskewed)\n",
    "    char_images = []\n",
    "    for (y0, y1) in lines:\n",
    "        line_img = deskewed[y0:y1, :]\n",
    "        # 4. Character segmentation\n",
    "        for (x,y,w,h) in segment_chars(line_img):\n",
    "            char_crop = line_img[y:y+h, x:x+w]\n",
    "            # 5. Resize to model size (e.g. 28×28) and pad\n",
    "            h0, w0 = char_crop.shape\n",
    "            scale = 28.0 / max(h0, w0)\n",
    "            resized = cv2.resize(char_crop, None, fx=scale, fy=scale,\n",
    "                                 interpolation=cv2.INTER_AREA)\n",
    "            # center in 28×28\n",
    "            canvas = np.zeros((28,28), dtype=np.uint8)\n",
    "            dx = (28 - resized.shape[1])//2\n",
    "            dy = (28 - resized.shape[0])//2\n",
    "            canvas[dy:dy+resized.shape[0], dx:dx+resized.shape[1]] = resized\n",
    "            # 6. Stroke extraction\n",
    "            skel = extract_strokes(canvas)\n",
    "            char_images.append(skel)\n",
    "    return char_images"
   ]
  },
  {
   "cell_type": "code",
   "execution_count": 60,
   "id": "555fd555",
   "metadata": {},
   "outputs": [],
   "source": [
    "def filter_valid_boxes(boxes, min_area=20):\n",
    "    \"\"\"Filter out character boxes that are too small (likely noise).\"\"\"\n",
    "    filtered = []\n",
    "    for (x0, y0, x1, y1) in boxes:\n",
    "        area = (x1 - x0) * (y1 - y0)\n",
    "        if area >= min_area and (x1 - x0) > 1 and (y1 - y0) > 1:\n",
    "            filtered.append((x0, y0, x1, y1))\n",
    "    return filtered\n"
   ]
  },
  {
   "cell_type": "code",
   "execution_count": 59,
   "id": "576186da",
   "metadata": {},
   "outputs": [
    {
     "ename": "error",
     "evalue": "OpenCV(4.6.0) D:\\a\\opencv-python\\opencv-python\\opencv\\modules\\imgproc\\src\\resize.cpp:4058: error: (-215:Assertion failed) !dsize.empty() in function 'cv::resize'\n",
     "output_type": "error",
     "traceback": [
      "\u001b[1;31m---------------------------------------------------------------------------\u001b[0m",
      "\u001b[1;31merror\u001b[0m                                     Traceback (most recent call last)",
      "\u001b[1;32m~\\AppData\\Local\\Temp\\ipykernel_20876\\29843207.py\u001b[0m in \u001b[0;36m<module>\u001b[1;34m\u001b[0m\n\u001b[0;32m      1\u001b[0m \u001b[1;32mif\u001b[0m \u001b[0m__name__\u001b[0m \u001b[1;33m==\u001b[0m \u001b[1;34m\"__main__\"\u001b[0m\u001b[1;33m:\u001b[0m\u001b[1;33m\u001b[0m\u001b[1;33m\u001b[0m\u001b[0m\n\u001b[0;32m      2\u001b[0m     \u001b[0mpage_path\u001b[0m \u001b[1;33m=\u001b[0m \u001b[1;34mr\"D:\\STUDY\\Sumit\\lectures sumit\\college\\sem 6\\test.jpeg\"\u001b[0m\u001b[1;33m\u001b[0m\u001b[1;33m\u001b[0m\u001b[0m\n\u001b[1;32m----> 3\u001b[1;33m     \u001b[0mchars\u001b[0m \u001b[1;33m=\u001b[0m \u001b[0mpreprocess_page\u001b[0m\u001b[1;33m(\u001b[0m\u001b[0mpage_path\u001b[0m\u001b[1;33m)\u001b[0m\u001b[1;33m\u001b[0m\u001b[1;33m\u001b[0m\u001b[0m\n\u001b[0m\u001b[0;32m      4\u001b[0m     \u001b[1;31m# Example: save out to disk\u001b[0m\u001b[1;33m\u001b[0m\u001b[1;33m\u001b[0m\u001b[0m\n\u001b[0;32m      5\u001b[0m     \u001b[1;32mfor\u001b[0m \u001b[0mi\u001b[0m\u001b[1;33m,\u001b[0m \u001b[0mch\u001b[0m \u001b[1;32min\u001b[0m \u001b[0menumerate\u001b[0m\u001b[1;33m(\u001b[0m\u001b[0mchars\u001b[0m\u001b[1;33m)\u001b[0m\u001b[1;33m:\u001b[0m\u001b[1;33m\u001b[0m\u001b[1;33m\u001b[0m\u001b[0m\n",
      "\u001b[1;32m~\\AppData\\Local\\Temp\\ipykernel_20876\\2148168395.py\u001b[0m in \u001b[0;36mpreprocess_page\u001b[1;34m(path)\u001b[0m\n\u001b[0;32m     15\u001b[0m             \u001b[0mh0\u001b[0m\u001b[1;33m,\u001b[0m \u001b[0mw0\u001b[0m \u001b[1;33m=\u001b[0m \u001b[0mchar_crop\u001b[0m\u001b[1;33m.\u001b[0m\u001b[0mshape\u001b[0m\u001b[1;33m\u001b[0m\u001b[1;33m\u001b[0m\u001b[0m\n\u001b[0;32m     16\u001b[0m             \u001b[0mscale\u001b[0m \u001b[1;33m=\u001b[0m \u001b[1;36m28.0\u001b[0m \u001b[1;33m/\u001b[0m \u001b[0mmax\u001b[0m\u001b[1;33m(\u001b[0m\u001b[0mh0\u001b[0m\u001b[1;33m,\u001b[0m \u001b[0mw0\u001b[0m\u001b[1;33m)\u001b[0m\u001b[1;33m\u001b[0m\u001b[1;33m\u001b[0m\u001b[0m\n\u001b[1;32m---> 17\u001b[1;33m             resized = cv2.resize(char_crop, None, fx=scale, fy=scale,\n\u001b[0m\u001b[0;32m     18\u001b[0m                                  interpolation=cv2.INTER_AREA)\n\u001b[0;32m     19\u001b[0m             \u001b[1;31m# center in 28×28\u001b[0m\u001b[1;33m\u001b[0m\u001b[1;33m\u001b[0m\u001b[0m\n",
      "\u001b[1;31merror\u001b[0m: OpenCV(4.6.0) D:\\a\\opencv-python\\opencv-python\\opencv\\modules\\imgproc\\src\\resize.cpp:4058: error: (-215:Assertion failed) !dsize.empty() in function 'cv::resize'\n"
     ]
    }
   ],
   "source": [
    "if __name__ == \"__main__\":\n",
    "    page_path = r\"D:\\STUDY\\Sumit\\lectures sumit\\college\\sem 6\\test.jpeg\"\n",
    "    chars = preprocess_page(page_path)\n",
    "    # Example: save out to disk\n",
    "    for i, ch in enumerate(chars):\n",
    "        cv2.imwrite(f\"char_{i:03d}.png\", ch)"
   ]
  },
  {
   "cell_type": "code",
   "execution_count": 49,
   "id": "2341365b",
   "metadata": {},
   "outputs": [
    {
     "ename": "NameError",
     "evalue": "name 'img_bin' is not defined",
     "output_type": "error",
     "traceback": [
      "\u001b[1;31m---------------------------------------------------------------------------\u001b[0m",
      "\u001b[1;31mNameError\u001b[0m                                 Traceback (most recent call last)",
      "\u001b[1;32m~\\AppData\\Local\\Temp\\ipykernel_20876\\3713312830.py\u001b[0m in \u001b[0;36m<module>\u001b[1;34m\u001b[0m\n\u001b[1;32m----> 1\u001b[1;33m \u001b[0mprint\u001b[0m\u001b[1;33m(\u001b[0m\u001b[1;34m\"Image shape:\"\u001b[0m\u001b[1;33m,\u001b[0m \u001b[0mimg_bin\u001b[0m\u001b[1;33m.\u001b[0m\u001b[0mshape\u001b[0m\u001b[1;33m)\u001b[0m\u001b[1;33m\u001b[0m\u001b[1;33m\u001b[0m\u001b[0m\n\u001b[0m\u001b[0;32m      2\u001b[0m \u001b[0mprint\u001b[0m\u001b[1;33m(\u001b[0m\u001b[1;34m\"Image dtype:\"\u001b[0m\u001b[1;33m,\u001b[0m \u001b[0mimg_bin\u001b[0m\u001b[1;33m.\u001b[0m\u001b[0mdtype\u001b[0m\u001b[1;33m)\u001b[0m\u001b[1;33m\u001b[0m\u001b[1;33m\u001b[0m\u001b[0m\n\u001b[0;32m      3\u001b[0m \u001b[0mprint\u001b[0m\u001b[1;33m(\u001b[0m\u001b[1;34m\"Unique values:\"\u001b[0m\u001b[1;33m,\u001b[0m \u001b[0mnp\u001b[0m\u001b[1;33m.\u001b[0m\u001b[0munique\u001b[0m\u001b[1;33m(\u001b[0m\u001b[0mimg_bin\u001b[0m\u001b[1;33m)\u001b[0m\u001b[1;33m)\u001b[0m\u001b[1;33m\u001b[0m\u001b[1;33m\u001b[0m\u001b[0m\n",
      "\u001b[1;31mNameError\u001b[0m: name 'img_bin' is not defined"
     ]
    }
   ],
   "source": [
    "print(\"Image shape:\", img_bin.shape)\n",
    "print(\"Image dtype:\", img_bin.dtype)\n",
    "print(\"Unique values:\", np.unique(img_bin))\n"
   ]
  },
  {
   "cell_type": "code",
   "execution_count": null,
   "id": "1286eacf",
   "metadata": {},
   "outputs": [],
   "source": []
  }
 ],
 "metadata": {
  "kernelspec": {
   "display_name": "Python 3 (ipykernel)",
   "language": "python",
   "name": "python3"
  },
  "language_info": {
   "codemirror_mode": {
    "name": "ipython",
    "version": 3
   },
   "file_extension": ".py",
   "mimetype": "text/x-python",
   "name": "python",
   "nbconvert_exporter": "python",
   "pygments_lexer": "ipython3",
   "version": "3.9.13"
  }
 },
 "nbformat": 4,
 "nbformat_minor": 5
}
